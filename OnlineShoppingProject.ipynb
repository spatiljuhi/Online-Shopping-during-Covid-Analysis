{
 "cells": [
  {
   "cell_type": "code",
   "execution_count": 119,
   "id": "88179781",
   "metadata": {},
   "outputs": [
    {
     "name": "stdout",
     "output_type": "stream",
     "text": [
      "Requirement already satisfied: xlsxwriter in c:\\users\\juhip\\anaconda3\\lib\\site-packages (3.1.0)\n"
     ]
    }
   ],
   "source": [
    "!pip install xlsxwriter\n",
    "import datetime\n",
    "from datetime import datetime\n",
    "import xlsxwriter\n",
    "import random\n",
    "from xlsxwriter.utility import xl_rowcol_to_cell"
   ]
  },
  {
   "cell_type": "code",
   "execution_count": 120,
   "id": "72ae7d81",
   "metadata": {},
   "outputs": [],
   "source": [
    "workbook = xlsxwriter.Workbook(r\"J:\\ACADEMICS\\SevenMentor\\Python\\PythonProject\\OnlineShopping\\OnlineShopping.xlsx\")\n",
    "worksheet = workbook.add_worksheet()"
   ]
  },
  {
   "cell_type": "code",
   "execution_count": 121,
   "id": "fb79ceb5",
   "metadata": {},
   "outputs": [],
   "source": [
    "#bold = workbook.add_format()\n",
    "cell_format = workbook.add_format({'bold': True, 'font_color': 'red', 'align':'center'})\n",
    "cell_format.set_font_size(12)\n",
    "cell_format.set_underline()\n",
    "cell_format.set_align('center')\n",
    "worksheet.set_column(0,15,15)\n",
    "alignment = workbook.add_format({'align':'center'})"
   ]
  },
  {
   "cell_type": "code",
   "execution_count": 122,
   "id": "8bf92b87",
   "metadata": {},
   "outputs": [
    {
     "data": {
      "text/plain": [
       "0"
      ]
     },
     "execution_count": 122,
     "metadata": {},
     "output_type": "execute_result"
    }
   ],
   "source": [
    "worksheet.write(\"A1\",\"ORDER DATE\",cell_format) \n",
    "worksheet.write(\"B1\",\"ORDER ID\",cell_format)\n",
    "worksheet.write(\"C1\",\"PAYMENT INSTRUMENT TYPE\",cell_format)\n",
    "worksheet.write(\"D1\",\"WEBSITE\",cell_format) \n",
    "worksheet.write(\"E1\",\"CATEGORY\",cell_format) \n",
    "worksheet.write(\"F1\",\"PURCHASE ORDER NO.\",cell_format) \n",
    "worksheet.write(\"G1\",\"CITY\",cell_format)\n",
    "worksheet.write(\"H1\",\"STATE\",cell_format) \n",
    "worksheet.write(\"I1\",\"ZIP CODE\",cell_format) \n",
    "worksheet.write(\"J1\",\"CARRIER NAME & TRACKING NUMBER\",cell_format)\n",
    "worksheet.write(\"K1\",\"SUBTOTAL\",cell_format) \n",
    "worksheet.write(\"L1\",\"TAX CHARGED\",cell_format) \n",
    "worksheet.write(\"M1\",\"TOTAL CHARGED\",cell_format) \n",
    "worksheet.write(\"N1\",\"GROUP NAME\",cell_format) "
   ]
  },
  {
   "cell_type": "code",
   "execution_count": 123,
   "id": "01ca1f59",
   "metadata": {},
   "outputs": [],
   "source": [
    "workbook.set_calc_mode(0)"
   ]
  },
  {
   "cell_type": "code",
   "execution_count": 124,
   "id": "ec4a79cf",
   "metadata": {},
   "outputs": [],
   "source": [
    "#OrderDate(A2)\n",
    "date_format = workbook.add_format({'num_format': 'dd/mm/yyyy'})\n",
    "for row_num in range(1, 101):\n",
    "    cell = xlsxwriter.utility.xl_rowcol_to_cell(row_num, 0)\n",
    "    formula = '=DATE(RANDBETWEEN(2019,2022),RANDBETWEEN(1,12),RANDBETWEEN(1,31))'\n",
    "    worksheet.write_formula(cell, formula, date_format)\n"
   ]
  },
  {
   "cell_type": "code",
   "execution_count": 125,
   "id": "3d7dcc89",
   "metadata": {},
   "outputs": [],
   "source": [
    "#OrderID(B2)\n",
    "format1 = workbook.add_format({'num_format': '###-#######'})\n",
    "for row_num in range(1,101):\n",
    "    cell = xlsxwriter.utility.xl_rowcol_to_cell(row_num, 1)\n",
    "    formula=\"=RANDBETWEEN(1000000000,1500000000)\"\n",
    "    worksheet.write_formula(cell,formula,format1)\n",
    "    "
   ]
  },
  {
   "cell_type": "code",
   "execution_count": 126,
   "id": "c5e95e52",
   "metadata": {},
   "outputs": [],
   "source": [
    "#PaymentInstrumentType(C2)\n",
    "for row_num in range(1,101):\n",
    "    cell = xlsxwriter.utility.xl_rowcol_to_cell(row_num,2)\n",
    "    formula= '=CHOOSE(RANDBETWEEN(1,3),\"Visa-001\",\"Visa-002\",\"Visa-003\")'\n",
    "    worksheet.write_formula(cell,formula,alignment)"
   ]
  },
  {
   "cell_type": "code",
   "execution_count": 127,
   "id": "ce5e7ead",
   "metadata": {},
   "outputs": [],
   "source": [
    "#Website(D2)\n",
    "for row_num in range(1,101):\n",
    "    cell = xlsxwriter.utility.xl_rowcol_to_cell(row_num,3)\n",
    "    formula= '=CHOOSE(RANDBETWEEN(1,7),\"www.amazon.com\",\"www.ebay.com\",\"www.etsy.com\",\"www.instacart.com\",\"www.macys.com\",\"www.walmart.com\",\"www.bestbuy.com\")'\n",
    "    worksheet.write_formula(cell,formula,alignment)"
   ]
  },
  {
   "cell_type": "code",
   "execution_count": 128,
   "id": "9f388370",
   "metadata": {},
   "outputs": [],
   "source": [
    "#Website(E2)\n",
    "for row_num in range(1,101):\n",
    "    cell = xlsxwriter.utility.xl_rowcol_to_cell(row_num,4)\n",
    "    formula= '=CHOOSE(RANDBETWEEN(1,7),\"Beauty\",\"Fashion\",\"Electronics\",\"Furniture\",\"Household\",\"Food\",\"HealthCare\")'\n",
    "    worksheet.write_formula(cell,formula,alignment)"
   ]
  },
  {
   "cell_type": "code",
   "execution_count": 129,
   "id": "3efcc819",
   "metadata": {},
   "outputs": [],
   "source": [
    "#PurchaseOrderNo.(F2)\n",
    "for row_num in range(1,101):\n",
    "    cell = xlsxwriter.utility.xl_rowcol_to_cell(row_num,5)\n",
    "    worksheet.write(cell,\"NaN\",alignment)"
   ]
  },
  {
   "cell_type": "code",
   "execution_count": 130,
   "id": "fc62706e",
   "metadata": {},
   "outputs": [],
   "source": [
    "#CustomerEmail(F2)\n",
    "#generate random email id\n",
    "#import string\n",
    "\n",
    "#def random_char(y):\n",
    " #   return ''.join(random.choice(string.ascii_lowercase) for x in range(y))\n",
    "\n",
    "#for row_num in range(1,101):\n",
    " #   cell = xlsxwriter.utility.xl_rowcol_to_cell(row_num,5)\n",
    "  #  formula = '= \"' + random_char(7) + '@gmail.com\"'\n",
    "   # worksheet.write_formula(cell, formula,alignment)"
   ]
  },
  {
   "cell_type": "code",
   "execution_count": 131,
   "id": "38780b75",
   "metadata": {},
   "outputs": [],
   "source": [
    "#ShipmentDate(F2)\n",
    "#date_format = workbook.add_format({'num_format': 'dd/mm/yyyy'})\n",
    "#for row_num in range(1,101):\n",
    " #   cell = xlsxwriter.utility.xl_rowcol_to_cell(row_num,6)\n",
    "  #  formula= '=DATE(RANDBETWEEN(2019,2022),RANDBETWEEN(1,12),RANDBETWEEN(1,31)+5)'\n",
    "   # worksheet.write_formula(cell,formula,date_format)"
   ]
  },
  {
   "cell_type": "code",
   "execution_count": 132,
   "id": "9129748c",
   "metadata": {},
   "outputs": [],
   "source": [
    "#City(G2)\n",
    "for row_num in range(1,101):\n",
    "    cell = xlsxwriter.utility.xl_rowcol_to_cell(row_num,6)\n",
    "    formula= '=CHOOSE(RANDBETWEEN(1,4),\"CHICAGO\",\"PHOENIX\",\"LOS ANGELES\",\"DALLAS\")'\n",
    "    worksheet.write_formula(cell,formula,alignment)"
   ]
  },
  {
   "cell_type": "code",
   "execution_count": 133,
   "id": "ecb7fc85",
   "metadata": {},
   "outputs": [],
   "source": [
    "#State(H2)\n",
    "for row_num in range(1,101):\n",
    "    cell = xlsxwriter.utility.xl_rowcol_to_cell(row_num,7)\n",
    "    formula= '=IF(G{0}=\"CHICAGO\",\"ILLINOIS\",IF(G{0}=\"PHOENIX\",\"ARIZONA\",IF(G{0}=\"LOS ANGELES\",\"CALIFORNIA\",IF(G{0}=\"DALLAS\",\"TEXAS\"))))'.format(row_num + 1)\n",
    "    worksheet.write_formula(cell,formula,alignment)"
   ]
  },
  {
   "cell_type": "code",
   "execution_count": 134,
   "id": "891b659e",
   "metadata": {},
   "outputs": [],
   "source": [
    "#ZipCode(I2) \n",
    "for row_num in range(1,101):\n",
    "    cell = xlsxwriter.utility.xl_rowcol_to_cell(row_num,8)\n",
    "    formula= '=IF(G{0}=\"CHICAGO\",\"61612\",IF(G{0}=\"PHOENIX\",\"85001\",IF(G{0}=\"LOS ANGELES\",\"92661\",IF(G{0}=\"DALLAS\",\"75075\"))))'.format(row_num +1)\n",
    "    worksheet.write_formula(cell,formula,alignment)"
   ]
  },
  {
   "cell_type": "code",
   "execution_count": 135,
   "id": "907f89fa",
   "metadata": {},
   "outputs": [],
   "source": [
    "#CARRIER NAME & TRACKING NUMBER(J2)\n",
    "for row_num in range(1,101):\n",
    "    cell = xlsxwriter.utility.xl_rowcol_to_cell(row_num,9)\n",
    "    formula= '=CHOOSE(RANDBETWEEN(1,3),\"USPS\",\"FEDEX\",\"UPS\")'\n",
    "    worksheet.write_formula(cell,formula,alignment)"
   ]
  },
  {
   "cell_type": "code",
   "execution_count": 136,
   "id": "b10b18d5",
   "metadata": {},
   "outputs": [],
   "source": [
    "#SubTotal(K2)\n",
    "money_format = workbook.add_format({'num_format': '$#,##0'})\n",
    "for row_num in range(1,101):\n",
    "    cell = xlsxwriter.utility.xl_rowcol_to_cell(row_num,10)\n",
    "    formula='=RANDBETWEEN(1,1000)'\n",
    "    worksheet.write_formula(cell,formula,money_format)"
   ]
  },
  {
   "cell_type": "code",
   "execution_count": 137,
   "id": "868e65eb",
   "metadata": {},
   "outputs": [],
   "source": [
    "#TaxCharged(L2)\n",
    "money_format = workbook.add_format({'num_format': '$#,##0'})\n",
    "for row_num in range(1,101):\n",
    "    cell = xlsxwriter.utility.xl_rowcol_to_cell(row_num,11)\n",
    "    formula='=K2*0.05'\n",
    "    worksheet.write_formula(cell,formula,money_format)"
   ]
  },
  {
   "cell_type": "code",
   "execution_count": 138,
   "id": "b6c0234d",
   "metadata": {},
   "outputs": [],
   "source": [
    "#TotalCharged(M2)\n",
    "money_format = workbook.add_format({'num_format': '$#,##0'})\n",
    "for row_num in range(1,101):\n",
    "    cell = xlsxwriter.utility.xl_rowcol_to_cell(row_num,12)\n",
    "    formula='=K2+L2'\n",
    "    worksheet.write_formula(cell,formula,money_format)"
   ]
  },
  {
   "cell_type": "code",
   "execution_count": 139,
   "id": "2a18a470",
   "metadata": {},
   "outputs": [],
   "source": [
    "#GroupName(N2)\n",
    "for row_num in range(1,101):\n",
    "    cell = xlsxwriter.utility.xl_rowcol_to_cell(row_num,13)\n",
    "    worksheet.write(cell,\"NaN\",alignment)"
   ]
  },
  {
   "cell_type": "code",
   "execution_count": 140,
   "id": "0f3e47fa",
   "metadata": {},
   "outputs": [],
   "source": [
    "workbook.close()"
   ]
  },
  {
   "cell_type": "code",
   "execution_count": 199,
   "id": "3ddfcad7",
   "metadata": {},
   "outputs": [],
   "source": [
    "import pandas as pd\n",
    "import matplotlib.pyplot as plt\n",
    "import seaborn as sns"
   ]
  },
  {
   "cell_type": "code",
   "execution_count": 200,
   "id": "454a0fec",
   "metadata": {},
   "outputs": [],
   "source": [
    "df = pd.read_csv(r\"J:\\ACADEMICS\\SevenMentor\\Python\\PythonProject\\OnlineShopping\\OnlineShopping.csv\")"
   ]
  },
  {
   "cell_type": "code",
   "execution_count": 201,
   "id": "423a33f6",
   "metadata": {},
   "outputs": [
    {
     "data": {
      "text/plain": [
       "(100, 14)"
      ]
     },
     "execution_count": 201,
     "metadata": {},
     "output_type": "execute_result"
    }
   ],
   "source": [
    "df.shape"
   ]
  },
  {
   "cell_type": "code",
   "execution_count": 202,
   "id": "baa15771",
   "metadata": {},
   "outputs": [
    {
     "data": {
      "text/html": [
       "<div>\n",
       "<style scoped>\n",
       "    .dataframe tbody tr th:only-of-type {\n",
       "        vertical-align: middle;\n",
       "    }\n",
       "\n",
       "    .dataframe tbody tr th {\n",
       "        vertical-align: top;\n",
       "    }\n",
       "\n",
       "    .dataframe thead th {\n",
       "        text-align: right;\n",
       "    }\n",
       "</style>\n",
       "<table border=\"1\" class=\"dataframe\">\n",
       "  <thead>\n",
       "    <tr style=\"text-align: right;\">\n",
       "      <th></th>\n",
       "      <th>ORDER DATE</th>\n",
       "      <th>ORDER ID</th>\n",
       "      <th>PAYMENT INSTRUMENT TYPE</th>\n",
       "      <th>WEBSITE</th>\n",
       "      <th>CATEGORY</th>\n",
       "      <th>PURCHASE ORDER NO.</th>\n",
       "      <th>CITY</th>\n",
       "      <th>STATE</th>\n",
       "      <th>ZIP CODE</th>\n",
       "      <th>CARRIER NAME &amp; TRACKING NUMBER</th>\n",
       "      <th>SUBTOTAL</th>\n",
       "      <th>TAX CHARGED</th>\n",
       "      <th>TOTAL CHARGED</th>\n",
       "      <th>GROUP NAME</th>\n",
       "    </tr>\n",
       "  </thead>\n",
       "  <tbody>\n",
       "    <tr>\n",
       "      <th>0</th>\n",
       "      <td>16/11/2019</td>\n",
       "      <td>100-6570445</td>\n",
       "      <td>Visa-002</td>\n",
       "      <td>www.walmart.com</td>\n",
       "      <td>Electronics</td>\n",
       "      <td>NaN</td>\n",
       "      <td>LOS ANGELES</td>\n",
       "      <td>CALIFORNIA</td>\n",
       "      <td>92661</td>\n",
       "      <td>USPS</td>\n",
       "      <td>$925</td>\n",
       "      <td>$46</td>\n",
       "      <td>$971</td>\n",
       "      <td>NaN</td>\n",
       "    </tr>\n",
       "    <tr>\n",
       "      <th>1</th>\n",
       "      <td>31/10/2021</td>\n",
       "      <td>128-6473040</td>\n",
       "      <td>Visa-003</td>\n",
       "      <td>www.bestbuy.com</td>\n",
       "      <td>Electronics</td>\n",
       "      <td>NaN</td>\n",
       "      <td>DALLAS</td>\n",
       "      <td>TEXAS</td>\n",
       "      <td>75075</td>\n",
       "      <td>USPS</td>\n",
       "      <td>$208</td>\n",
       "      <td>$46</td>\n",
       "      <td>$971</td>\n",
       "      <td>NaN</td>\n",
       "    </tr>\n",
       "    <tr>\n",
       "      <th>2</th>\n",
       "      <td>24/01/2021</td>\n",
       "      <td>102-7274152</td>\n",
       "      <td>Visa-003</td>\n",
       "      <td>www.etsy.com</td>\n",
       "      <td>Furniture</td>\n",
       "      <td>NaN</td>\n",
       "      <td>CHICAGO</td>\n",
       "      <td>ILLINOIS</td>\n",
       "      <td>61612</td>\n",
       "      <td>FEDEX</td>\n",
       "      <td>$571</td>\n",
       "      <td>$46</td>\n",
       "      <td>$971</td>\n",
       "      <td>NaN</td>\n",
       "    </tr>\n",
       "    <tr>\n",
       "      <th>3</th>\n",
       "      <td>07/12/2021</td>\n",
       "      <td>124-7371978</td>\n",
       "      <td>Visa-003</td>\n",
       "      <td>www.amazon.com</td>\n",
       "      <td>HealthCare</td>\n",
       "      <td>NaN</td>\n",
       "      <td>CHICAGO</td>\n",
       "      <td>ILLINOIS</td>\n",
       "      <td>61612</td>\n",
       "      <td>UPS</td>\n",
       "      <td>$765</td>\n",
       "      <td>$46</td>\n",
       "      <td>$971</td>\n",
       "      <td>NaN</td>\n",
       "    </tr>\n",
       "    <tr>\n",
       "      <th>4</th>\n",
       "      <td>21/02/2020</td>\n",
       "      <td>129-2800278</td>\n",
       "      <td>Visa-003</td>\n",
       "      <td>www.instacart.com</td>\n",
       "      <td>Beauty</td>\n",
       "      <td>NaN</td>\n",
       "      <td>CHICAGO</td>\n",
       "      <td>ILLINOIS</td>\n",
       "      <td>61612</td>\n",
       "      <td>UPS</td>\n",
       "      <td>$148</td>\n",
       "      <td>$46</td>\n",
       "      <td>$971</td>\n",
       "      <td>NaN</td>\n",
       "    </tr>\n",
       "    <tr>\n",
       "      <th>...</th>\n",
       "      <td>...</td>\n",
       "      <td>...</td>\n",
       "      <td>...</td>\n",
       "      <td>...</td>\n",
       "      <td>...</td>\n",
       "      <td>...</td>\n",
       "      <td>...</td>\n",
       "      <td>...</td>\n",
       "      <td>...</td>\n",
       "      <td>...</td>\n",
       "      <td>...</td>\n",
       "      <td>...</td>\n",
       "      <td>...</td>\n",
       "      <td>...</td>\n",
       "    </tr>\n",
       "    <tr>\n",
       "      <th>95</th>\n",
       "      <td>19/12/2022</td>\n",
       "      <td>143-6703142</td>\n",
       "      <td>Visa-003</td>\n",
       "      <td>www.ebay.com</td>\n",
       "      <td>Furniture</td>\n",
       "      <td>NaN</td>\n",
       "      <td>LOS ANGELES</td>\n",
       "      <td>CALIFORNIA</td>\n",
       "      <td>92661</td>\n",
       "      <td>USPS</td>\n",
       "      <td>$564</td>\n",
       "      <td>$46</td>\n",
       "      <td>$971</td>\n",
       "      <td>NaN</td>\n",
       "    </tr>\n",
       "    <tr>\n",
       "      <th>96</th>\n",
       "      <td>10/12/2020</td>\n",
       "      <td>123-8322900</td>\n",
       "      <td>Visa-003</td>\n",
       "      <td>www.etsy.com</td>\n",
       "      <td>Food</td>\n",
       "      <td>NaN</td>\n",
       "      <td>DALLAS</td>\n",
       "      <td>TEXAS</td>\n",
       "      <td>75075</td>\n",
       "      <td>FEDEX</td>\n",
       "      <td>$102</td>\n",
       "      <td>$46</td>\n",
       "      <td>$971</td>\n",
       "      <td>NaN</td>\n",
       "    </tr>\n",
       "    <tr>\n",
       "      <th>97</th>\n",
       "      <td>15/03/2021</td>\n",
       "      <td>111-6804336</td>\n",
       "      <td>Visa-003</td>\n",
       "      <td>www.amazon.com</td>\n",
       "      <td>Food</td>\n",
       "      <td>NaN</td>\n",
       "      <td>LOS ANGELES</td>\n",
       "      <td>CALIFORNIA</td>\n",
       "      <td>92661</td>\n",
       "      <td>USPS</td>\n",
       "      <td>$506</td>\n",
       "      <td>$46</td>\n",
       "      <td>$971</td>\n",
       "      <td>NaN</td>\n",
       "    </tr>\n",
       "    <tr>\n",
       "      <th>98</th>\n",
       "      <td>07/11/2021</td>\n",
       "      <td>109-1352110</td>\n",
       "      <td>Visa-002</td>\n",
       "      <td>www.macys.com</td>\n",
       "      <td>Electronics</td>\n",
       "      <td>NaN</td>\n",
       "      <td>DALLAS</td>\n",
       "      <td>TEXAS</td>\n",
       "      <td>75075</td>\n",
       "      <td>FEDEX</td>\n",
       "      <td>$75</td>\n",
       "      <td>$46</td>\n",
       "      <td>$971</td>\n",
       "      <td>NaN</td>\n",
       "    </tr>\n",
       "    <tr>\n",
       "      <th>99</th>\n",
       "      <td>04/03/2019</td>\n",
       "      <td>143-2126086</td>\n",
       "      <td>Visa-003</td>\n",
       "      <td>www.ebay.com</td>\n",
       "      <td>Household</td>\n",
       "      <td>NaN</td>\n",
       "      <td>LOS ANGELES</td>\n",
       "      <td>CALIFORNIA</td>\n",
       "      <td>92661</td>\n",
       "      <td>USPS</td>\n",
       "      <td>$208</td>\n",
       "      <td>$46</td>\n",
       "      <td>$971</td>\n",
       "      <td>NaN</td>\n",
       "    </tr>\n",
       "  </tbody>\n",
       "</table>\n",
       "<p>100 rows × 14 columns</p>\n",
       "</div>"
      ],
      "text/plain": [
       "    ORDER DATE     ORDER ID PAYMENT INSTRUMENT TYPE            WEBSITE  \\\n",
       "0   16/11/2019  100-6570445                Visa-002    www.walmart.com   \n",
       "1   31/10/2021  128-6473040                Visa-003    www.bestbuy.com   \n",
       "2   24/01/2021  102-7274152                Visa-003       www.etsy.com   \n",
       "3   07/12/2021  124-7371978                Visa-003     www.amazon.com   \n",
       "4   21/02/2020  129-2800278                Visa-003  www.instacart.com   \n",
       "..         ...          ...                     ...                ...   \n",
       "95  19/12/2022  143-6703142                Visa-003       www.ebay.com   \n",
       "96  10/12/2020  123-8322900                Visa-003       www.etsy.com   \n",
       "97  15/03/2021  111-6804336                Visa-003     www.amazon.com   \n",
       "98  07/11/2021  109-1352110                Visa-002      www.macys.com   \n",
       "99  04/03/2019  143-2126086                Visa-003       www.ebay.com   \n",
       "\n",
       "       CATEGORY  PURCHASE ORDER NO.         CITY       STATE  ZIP CODE  \\\n",
       "0   Electronics                 NaN  LOS ANGELES  CALIFORNIA     92661   \n",
       "1   Electronics                 NaN       DALLAS       TEXAS     75075   \n",
       "2     Furniture                 NaN      CHICAGO    ILLINOIS     61612   \n",
       "3    HealthCare                 NaN      CHICAGO    ILLINOIS     61612   \n",
       "4        Beauty                 NaN      CHICAGO    ILLINOIS     61612   \n",
       "..          ...                 ...          ...         ...       ...   \n",
       "95    Furniture                 NaN  LOS ANGELES  CALIFORNIA     92661   \n",
       "96         Food                 NaN       DALLAS       TEXAS     75075   \n",
       "97         Food                 NaN  LOS ANGELES  CALIFORNIA     92661   \n",
       "98  Electronics                 NaN       DALLAS       TEXAS     75075   \n",
       "99    Household                 NaN  LOS ANGELES  CALIFORNIA     92661   \n",
       "\n",
       "   CARRIER NAME & TRACKING NUMBER SUBTOTAL TAX CHARGED TOTAL CHARGED  \\\n",
       "0                            USPS     $925         $46          $971   \n",
       "1                            USPS     $208         $46          $971   \n",
       "2                           FEDEX     $571         $46          $971   \n",
       "3                             UPS     $765         $46          $971   \n",
       "4                             UPS     $148         $46          $971   \n",
       "..                            ...      ...         ...           ...   \n",
       "95                           USPS     $564         $46          $971   \n",
       "96                          FEDEX     $102         $46          $971   \n",
       "97                           USPS     $506         $46          $971   \n",
       "98                          FEDEX      $75         $46          $971   \n",
       "99                           USPS     $208         $46          $971   \n",
       "\n",
       "    GROUP NAME  \n",
       "0          NaN  \n",
       "1          NaN  \n",
       "2          NaN  \n",
       "3          NaN  \n",
       "4          NaN  \n",
       "..         ...  \n",
       "95         NaN  \n",
       "96         NaN  \n",
       "97         NaN  \n",
       "98         NaN  \n",
       "99         NaN  \n",
       "\n",
       "[100 rows x 14 columns]"
      ]
     },
     "execution_count": 202,
     "metadata": {},
     "output_type": "execute_result"
    }
   ],
   "source": [
    "df"
   ]
  },
  {
   "cell_type": "code",
   "execution_count": 203,
   "id": "2fbeab96",
   "metadata": {},
   "outputs": [
    {
     "data": {
      "text/html": [
       "<div>\n",
       "<style scoped>\n",
       "    .dataframe tbody tr th:only-of-type {\n",
       "        vertical-align: middle;\n",
       "    }\n",
       "\n",
       "    .dataframe tbody tr th {\n",
       "        vertical-align: top;\n",
       "    }\n",
       "\n",
       "    .dataframe thead th {\n",
       "        text-align: right;\n",
       "    }\n",
       "</style>\n",
       "<table border=\"1\" class=\"dataframe\">\n",
       "  <thead>\n",
       "    <tr style=\"text-align: right;\">\n",
       "      <th></th>\n",
       "      <th>ORDER DATE</th>\n",
       "      <th>ORDER ID</th>\n",
       "      <th>PAYMENT INSTRUMENT TYPE</th>\n",
       "      <th>WEBSITE</th>\n",
       "      <th>CATEGORY</th>\n",
       "      <th>PURCHASE ORDER NO.</th>\n",
       "      <th>CITY</th>\n",
       "      <th>STATE</th>\n",
       "      <th>ZIP CODE</th>\n",
       "      <th>CARRIER NAME &amp; TRACKING NUMBER</th>\n",
       "      <th>SUBTOTAL</th>\n",
       "      <th>TAX CHARGED</th>\n",
       "      <th>TOTAL CHARGED</th>\n",
       "      <th>GROUP NAME</th>\n",
       "    </tr>\n",
       "  </thead>\n",
       "  <tbody>\n",
       "    <tr>\n",
       "      <th>0</th>\n",
       "      <td>16/11/2019</td>\n",
       "      <td>100-6570445</td>\n",
       "      <td>Visa-002</td>\n",
       "      <td>www.walmart.com</td>\n",
       "      <td>Electronics</td>\n",
       "      <td>0.0</td>\n",
       "      <td>LOS ANGELES</td>\n",
       "      <td>CALIFORNIA</td>\n",
       "      <td>92661</td>\n",
       "      <td>USPS</td>\n",
       "      <td>$925</td>\n",
       "      <td>$46</td>\n",
       "      <td>$971</td>\n",
       "      <td>0.0</td>\n",
       "    </tr>\n",
       "    <tr>\n",
       "      <th>1</th>\n",
       "      <td>31/10/2021</td>\n",
       "      <td>128-6473040</td>\n",
       "      <td>Visa-003</td>\n",
       "      <td>www.bestbuy.com</td>\n",
       "      <td>Electronics</td>\n",
       "      <td>0.0</td>\n",
       "      <td>DALLAS</td>\n",
       "      <td>TEXAS</td>\n",
       "      <td>75075</td>\n",
       "      <td>USPS</td>\n",
       "      <td>$208</td>\n",
       "      <td>$46</td>\n",
       "      <td>$971</td>\n",
       "      <td>0.0</td>\n",
       "    </tr>\n",
       "    <tr>\n",
       "      <th>2</th>\n",
       "      <td>24/01/2021</td>\n",
       "      <td>102-7274152</td>\n",
       "      <td>Visa-003</td>\n",
       "      <td>www.etsy.com</td>\n",
       "      <td>Furniture</td>\n",
       "      <td>0.0</td>\n",
       "      <td>CHICAGO</td>\n",
       "      <td>ILLINOIS</td>\n",
       "      <td>61612</td>\n",
       "      <td>FEDEX</td>\n",
       "      <td>$571</td>\n",
       "      <td>$46</td>\n",
       "      <td>$971</td>\n",
       "      <td>0.0</td>\n",
       "    </tr>\n",
       "    <tr>\n",
       "      <th>3</th>\n",
       "      <td>07/12/2021</td>\n",
       "      <td>124-7371978</td>\n",
       "      <td>Visa-003</td>\n",
       "      <td>www.amazon.com</td>\n",
       "      <td>HealthCare</td>\n",
       "      <td>0.0</td>\n",
       "      <td>CHICAGO</td>\n",
       "      <td>ILLINOIS</td>\n",
       "      <td>61612</td>\n",
       "      <td>UPS</td>\n",
       "      <td>$765</td>\n",
       "      <td>$46</td>\n",
       "      <td>$971</td>\n",
       "      <td>0.0</td>\n",
       "    </tr>\n",
       "    <tr>\n",
       "      <th>4</th>\n",
       "      <td>21/02/2020</td>\n",
       "      <td>129-2800278</td>\n",
       "      <td>Visa-003</td>\n",
       "      <td>www.instacart.com</td>\n",
       "      <td>Beauty</td>\n",
       "      <td>0.0</td>\n",
       "      <td>CHICAGO</td>\n",
       "      <td>ILLINOIS</td>\n",
       "      <td>61612</td>\n",
       "      <td>UPS</td>\n",
       "      <td>$148</td>\n",
       "      <td>$46</td>\n",
       "      <td>$971</td>\n",
       "      <td>0.0</td>\n",
       "    </tr>\n",
       "  </tbody>\n",
       "</table>\n",
       "</div>"
      ],
      "text/plain": [
       "   ORDER DATE     ORDER ID PAYMENT INSTRUMENT TYPE            WEBSITE  \\\n",
       "0  16/11/2019  100-6570445                Visa-002    www.walmart.com   \n",
       "1  31/10/2021  128-6473040                Visa-003    www.bestbuy.com   \n",
       "2  24/01/2021  102-7274152                Visa-003       www.etsy.com   \n",
       "3  07/12/2021  124-7371978                Visa-003     www.amazon.com   \n",
       "4  21/02/2020  129-2800278                Visa-003  www.instacart.com   \n",
       "\n",
       "      CATEGORY  PURCHASE ORDER NO.         CITY       STATE  ZIP CODE  \\\n",
       "0  Electronics                 0.0  LOS ANGELES  CALIFORNIA     92661   \n",
       "1  Electronics                 0.0       DALLAS       TEXAS     75075   \n",
       "2    Furniture                 0.0      CHICAGO    ILLINOIS     61612   \n",
       "3   HealthCare                 0.0      CHICAGO    ILLINOIS     61612   \n",
       "4       Beauty                 0.0      CHICAGO    ILLINOIS     61612   \n",
       "\n",
       "  CARRIER NAME & TRACKING NUMBER SUBTOTAL TAX CHARGED TOTAL CHARGED  \\\n",
       "0                           USPS     $925         $46          $971   \n",
       "1                           USPS     $208         $46          $971   \n",
       "2                          FEDEX     $571         $46          $971   \n",
       "3                            UPS     $765         $46          $971   \n",
       "4                            UPS     $148         $46          $971   \n",
       "\n",
       "   GROUP NAME  \n",
       "0         0.0  \n",
       "1         0.0  \n",
       "2         0.0  \n",
       "3         0.0  \n",
       "4         0.0  "
      ]
     },
     "execution_count": 203,
     "metadata": {},
     "output_type": "execute_result"
    }
   ],
   "source": [
    "#replace null values with 0\n",
    "df = df.fillna(0)\n",
    "df.head()"
   ]
  },
  {
   "cell_type": "code",
   "execution_count": 204,
   "id": "9f9577f1",
   "metadata": {},
   "outputs": [
    {
     "name": "stdout",
     "output_type": "stream",
     "text": [
      "97100.0\n"
     ]
    }
   ],
   "source": [
    "#converting Total_Charged col to float, removing $ for summation\n",
    "df['TOTAL CHARGED'] = df['TOTAL CHARGED'].astype(str)\n",
    "df['TOTAL CHARGED'] = df['TOTAL CHARGED'].str.replace('$', '',regex=False).str.replace(',','',regex=False)\n",
    "df['TOTAL CHARGED'] = df['TOTAL CHARGED'].astype(float)\n",
    "print(df[\"TOTAL CHARGED\"].sum())\n"
   ]
  },
  {
   "cell_type": "code",
   "execution_count": 205,
   "id": "e4329e91",
   "metadata": {},
   "outputs": [
    {
     "name": "stdout",
     "output_type": "stream",
     "text": [
      "4600.0\n"
     ]
    },
    {
     "data": {
      "text/html": [
       "<div>\n",
       "<style scoped>\n",
       "    .dataframe tbody tr th:only-of-type {\n",
       "        vertical-align: middle;\n",
       "    }\n",
       "\n",
       "    .dataframe tbody tr th {\n",
       "        vertical-align: top;\n",
       "    }\n",
       "\n",
       "    .dataframe thead th {\n",
       "        text-align: right;\n",
       "    }\n",
       "</style>\n",
       "<table border=\"1\" class=\"dataframe\">\n",
       "  <thead>\n",
       "    <tr style=\"text-align: right;\">\n",
       "      <th></th>\n",
       "      <th>ORDER DATE</th>\n",
       "      <th>ORDER ID</th>\n",
       "      <th>PAYMENT INSTRUMENT TYPE</th>\n",
       "      <th>WEBSITE</th>\n",
       "      <th>CATEGORY</th>\n",
       "      <th>PURCHASE ORDER NO.</th>\n",
       "      <th>CITY</th>\n",
       "      <th>STATE</th>\n",
       "      <th>ZIP CODE</th>\n",
       "      <th>CARRIER NAME &amp; TRACKING NUMBER</th>\n",
       "      <th>SUBTOTAL</th>\n",
       "      <th>TAX CHARGED</th>\n",
       "      <th>TOTAL CHARGED</th>\n",
       "      <th>GROUP NAME</th>\n",
       "    </tr>\n",
       "  </thead>\n",
       "  <tbody>\n",
       "    <tr>\n",
       "      <th>0</th>\n",
       "      <td>16/11/2019</td>\n",
       "      <td>100-6570445</td>\n",
       "      <td>Visa-002</td>\n",
       "      <td>www.walmart.com</td>\n",
       "      <td>Electronics</td>\n",
       "      <td>0.0</td>\n",
       "      <td>LOS ANGELES</td>\n",
       "      <td>CALIFORNIA</td>\n",
       "      <td>92661</td>\n",
       "      <td>USPS</td>\n",
       "      <td>$925</td>\n",
       "      <td>46.0</td>\n",
       "      <td>971.0</td>\n",
       "      <td>0.0</td>\n",
       "    </tr>\n",
       "    <tr>\n",
       "      <th>1</th>\n",
       "      <td>31/10/2021</td>\n",
       "      <td>128-6473040</td>\n",
       "      <td>Visa-003</td>\n",
       "      <td>www.bestbuy.com</td>\n",
       "      <td>Electronics</td>\n",
       "      <td>0.0</td>\n",
       "      <td>DALLAS</td>\n",
       "      <td>TEXAS</td>\n",
       "      <td>75075</td>\n",
       "      <td>USPS</td>\n",
       "      <td>$208</td>\n",
       "      <td>46.0</td>\n",
       "      <td>971.0</td>\n",
       "      <td>0.0</td>\n",
       "    </tr>\n",
       "    <tr>\n",
       "      <th>2</th>\n",
       "      <td>24/01/2021</td>\n",
       "      <td>102-7274152</td>\n",
       "      <td>Visa-003</td>\n",
       "      <td>www.etsy.com</td>\n",
       "      <td>Furniture</td>\n",
       "      <td>0.0</td>\n",
       "      <td>CHICAGO</td>\n",
       "      <td>ILLINOIS</td>\n",
       "      <td>61612</td>\n",
       "      <td>FEDEX</td>\n",
       "      <td>$571</td>\n",
       "      <td>46.0</td>\n",
       "      <td>971.0</td>\n",
       "      <td>0.0</td>\n",
       "    </tr>\n",
       "    <tr>\n",
       "      <th>3</th>\n",
       "      <td>07/12/2021</td>\n",
       "      <td>124-7371978</td>\n",
       "      <td>Visa-003</td>\n",
       "      <td>www.amazon.com</td>\n",
       "      <td>HealthCare</td>\n",
       "      <td>0.0</td>\n",
       "      <td>CHICAGO</td>\n",
       "      <td>ILLINOIS</td>\n",
       "      <td>61612</td>\n",
       "      <td>UPS</td>\n",
       "      <td>$765</td>\n",
       "      <td>46.0</td>\n",
       "      <td>971.0</td>\n",
       "      <td>0.0</td>\n",
       "    </tr>\n",
       "    <tr>\n",
       "      <th>4</th>\n",
       "      <td>21/02/2020</td>\n",
       "      <td>129-2800278</td>\n",
       "      <td>Visa-003</td>\n",
       "      <td>www.instacart.com</td>\n",
       "      <td>Beauty</td>\n",
       "      <td>0.0</td>\n",
       "      <td>CHICAGO</td>\n",
       "      <td>ILLINOIS</td>\n",
       "      <td>61612</td>\n",
       "      <td>UPS</td>\n",
       "      <td>$148</td>\n",
       "      <td>46.0</td>\n",
       "      <td>971.0</td>\n",
       "      <td>0.0</td>\n",
       "    </tr>\n",
       "  </tbody>\n",
       "</table>\n",
       "</div>"
      ],
      "text/plain": [
       "   ORDER DATE     ORDER ID PAYMENT INSTRUMENT TYPE            WEBSITE  \\\n",
       "0  16/11/2019  100-6570445                Visa-002    www.walmart.com   \n",
       "1  31/10/2021  128-6473040                Visa-003    www.bestbuy.com   \n",
       "2  24/01/2021  102-7274152                Visa-003       www.etsy.com   \n",
       "3  07/12/2021  124-7371978                Visa-003     www.amazon.com   \n",
       "4  21/02/2020  129-2800278                Visa-003  www.instacart.com   \n",
       "\n",
       "      CATEGORY  PURCHASE ORDER NO.         CITY       STATE  ZIP CODE  \\\n",
       "0  Electronics                 0.0  LOS ANGELES  CALIFORNIA     92661   \n",
       "1  Electronics                 0.0       DALLAS       TEXAS     75075   \n",
       "2    Furniture                 0.0      CHICAGO    ILLINOIS     61612   \n",
       "3   HealthCare                 0.0      CHICAGO    ILLINOIS     61612   \n",
       "4       Beauty                 0.0      CHICAGO    ILLINOIS     61612   \n",
       "\n",
       "  CARRIER NAME & TRACKING NUMBER SUBTOTAL  TAX CHARGED  TOTAL CHARGED  \\\n",
       "0                           USPS     $925         46.0          971.0   \n",
       "1                           USPS     $208         46.0          971.0   \n",
       "2                          FEDEX     $571         46.0          971.0   \n",
       "3                            UPS     $765         46.0          971.0   \n",
       "4                            UPS     $148         46.0          971.0   \n",
       "\n",
       "   GROUP NAME  \n",
       "0         0.0  \n",
       "1         0.0  \n",
       "2         0.0  \n",
       "3         0.0  \n",
       "4         0.0  "
      ]
     },
     "execution_count": 205,
     "metadata": {},
     "output_type": "execute_result"
    }
   ],
   "source": [
    "#converting Tax_Charged col to float, removing $ for summation\n",
    "df['TAX CHARGED'] = df['TAX CHARGED'].astype(str)\n",
    "df['TAX CHARGED'] = df['TAX CHARGED'].str.replace('$', '',regex=False).str.replace(',','',regex=False)\n",
    "df['TAX CHARGED'] = df['TAX CHARGED'].astype(float)\n",
    "print(df[\"TAX CHARGED\"].sum())\n",
    "df.head()"
   ]
  },
  {
   "cell_type": "code",
   "execution_count": 223,
   "id": "d53a471f",
   "metadata": {},
   "outputs": [
    {
     "name": "stdout",
     "output_type": "stream",
     "text": [
      "97100.0\n",
      "4600.0\n"
     ]
    }
   ],
   "source": [
    "print(df[\"TOTAL CHARGED\"].sum())\n",
    "print(df[\"TAX CHARGED\"].sum())"
   ]
  },
  {
   "cell_type": "code",
   "execution_count": 206,
   "id": "a5b18d25",
   "metadata": {},
   "outputs": [],
   "source": [
    "#tax paid\n",
    "total_tax_paid = (df[\"TAX CHARGED\"].sum() / df[\"TOTAL CHARGED\"].sum())*100"
   ]
  },
  {
   "cell_type": "code",
   "execution_count": 207,
   "id": "2031b645",
   "metadata": {},
   "outputs": [
    {
     "data": {
      "text/plain": [
       "count    100.0\n",
       "mean     971.0\n",
       "std        0.0\n",
       "min      971.0\n",
       "25%      971.0\n",
       "50%      971.0\n",
       "75%      971.0\n",
       "max      971.0\n",
       "Name: TOTAL CHARGED, dtype: float64"
      ]
     },
     "execution_count": 207,
     "metadata": {},
     "output_type": "execute_result"
    }
   ],
   "source": [
    "#max amount spent on online shopping= $1046\n",
    "#min = $18\n",
    "df['TOTAL CHARGED'].describe()"
   ]
  },
  {
   "cell_type": "code",
   "execution_count": 208,
   "id": "9b9b2e61",
   "metadata": {},
   "outputs": [
    {
     "data": {
      "text/html": [
       "<div>\n",
       "<style scoped>\n",
       "    .dataframe tbody tr th:only-of-type {\n",
       "        vertical-align: middle;\n",
       "    }\n",
       "\n",
       "    .dataframe tbody tr th {\n",
       "        vertical-align: top;\n",
       "    }\n",
       "\n",
       "    .dataframe thead th {\n",
       "        text-align: right;\n",
       "    }\n",
       "</style>\n",
       "<table border=\"1\" class=\"dataframe\">\n",
       "  <thead>\n",
       "    <tr style=\"text-align: right;\">\n",
       "      <th></th>\n",
       "      <th>ORDER DATE</th>\n",
       "      <th>ORDER ID</th>\n",
       "      <th>PAYMENT INSTRUMENT TYPE</th>\n",
       "      <th>WEBSITE</th>\n",
       "      <th>CATEGORY</th>\n",
       "      <th>PURCHASE ORDER NO.</th>\n",
       "      <th>CITY</th>\n",
       "      <th>STATE</th>\n",
       "      <th>ZIP CODE</th>\n",
       "      <th>CARRIER NAME &amp; TRACKING NUMBER</th>\n",
       "      <th>SUBTOTAL</th>\n",
       "      <th>TAX CHARGED</th>\n",
       "      <th>TOTAL CHARGED</th>\n",
       "      <th>GROUP NAME</th>\n",
       "    </tr>\n",
       "  </thead>\n",
       "  <tbody>\n",
       "    <tr>\n",
       "      <th>0</th>\n",
       "      <td>2019-11-16</td>\n",
       "      <td>100-6570445</td>\n",
       "      <td>Visa-002</td>\n",
       "      <td>www.walmart.com</td>\n",
       "      <td>Electronics</td>\n",
       "      <td>0.0</td>\n",
       "      <td>LOS ANGELES</td>\n",
       "      <td>CALIFORNIA</td>\n",
       "      <td>92661</td>\n",
       "      <td>USPS</td>\n",
       "      <td>$925</td>\n",
       "      <td>46.0</td>\n",
       "      <td>971.0</td>\n",
       "      <td>0.0</td>\n",
       "    </tr>\n",
       "    <tr>\n",
       "      <th>1</th>\n",
       "      <td>2021-10-31</td>\n",
       "      <td>128-6473040</td>\n",
       "      <td>Visa-003</td>\n",
       "      <td>www.bestbuy.com</td>\n",
       "      <td>Electronics</td>\n",
       "      <td>0.0</td>\n",
       "      <td>DALLAS</td>\n",
       "      <td>TEXAS</td>\n",
       "      <td>75075</td>\n",
       "      <td>USPS</td>\n",
       "      <td>$208</td>\n",
       "      <td>46.0</td>\n",
       "      <td>971.0</td>\n",
       "      <td>0.0</td>\n",
       "    </tr>\n",
       "    <tr>\n",
       "      <th>2</th>\n",
       "      <td>2021-01-24</td>\n",
       "      <td>102-7274152</td>\n",
       "      <td>Visa-003</td>\n",
       "      <td>www.etsy.com</td>\n",
       "      <td>Furniture</td>\n",
       "      <td>0.0</td>\n",
       "      <td>CHICAGO</td>\n",
       "      <td>ILLINOIS</td>\n",
       "      <td>61612</td>\n",
       "      <td>FEDEX</td>\n",
       "      <td>$571</td>\n",
       "      <td>46.0</td>\n",
       "      <td>971.0</td>\n",
       "      <td>0.0</td>\n",
       "    </tr>\n",
       "    <tr>\n",
       "      <th>3</th>\n",
       "      <td>2021-12-07</td>\n",
       "      <td>124-7371978</td>\n",
       "      <td>Visa-003</td>\n",
       "      <td>www.amazon.com</td>\n",
       "      <td>HealthCare</td>\n",
       "      <td>0.0</td>\n",
       "      <td>CHICAGO</td>\n",
       "      <td>ILLINOIS</td>\n",
       "      <td>61612</td>\n",
       "      <td>UPS</td>\n",
       "      <td>$765</td>\n",
       "      <td>46.0</td>\n",
       "      <td>971.0</td>\n",
       "      <td>0.0</td>\n",
       "    </tr>\n",
       "    <tr>\n",
       "      <th>4</th>\n",
       "      <td>2020-02-21</td>\n",
       "      <td>129-2800278</td>\n",
       "      <td>Visa-003</td>\n",
       "      <td>www.instacart.com</td>\n",
       "      <td>Beauty</td>\n",
       "      <td>0.0</td>\n",
       "      <td>CHICAGO</td>\n",
       "      <td>ILLINOIS</td>\n",
       "      <td>61612</td>\n",
       "      <td>UPS</td>\n",
       "      <td>$148</td>\n",
       "      <td>46.0</td>\n",
       "      <td>971.0</td>\n",
       "      <td>0.0</td>\n",
       "    </tr>\n",
       "  </tbody>\n",
       "</table>\n",
       "</div>"
      ],
      "text/plain": [
       "  ORDER DATE     ORDER ID PAYMENT INSTRUMENT TYPE            WEBSITE  \\\n",
       "0 2019-11-16  100-6570445                Visa-002    www.walmart.com   \n",
       "1 2021-10-31  128-6473040                Visa-003    www.bestbuy.com   \n",
       "2 2021-01-24  102-7274152                Visa-003       www.etsy.com   \n",
       "3 2021-12-07  124-7371978                Visa-003     www.amazon.com   \n",
       "4 2020-02-21  129-2800278                Visa-003  www.instacart.com   \n",
       "\n",
       "      CATEGORY  PURCHASE ORDER NO.         CITY       STATE  ZIP CODE  \\\n",
       "0  Electronics                 0.0  LOS ANGELES  CALIFORNIA     92661   \n",
       "1  Electronics                 0.0       DALLAS       TEXAS     75075   \n",
       "2    Furniture                 0.0      CHICAGO    ILLINOIS     61612   \n",
       "3   HealthCare                 0.0      CHICAGO    ILLINOIS     61612   \n",
       "4       Beauty                 0.0      CHICAGO    ILLINOIS     61612   \n",
       "\n",
       "  CARRIER NAME & TRACKING NUMBER SUBTOTAL  TAX CHARGED  TOTAL CHARGED  \\\n",
       "0                           USPS     $925         46.0          971.0   \n",
       "1                           USPS     $208         46.0          971.0   \n",
       "2                          FEDEX     $571         46.0          971.0   \n",
       "3                            UPS     $765         46.0          971.0   \n",
       "4                            UPS     $148         46.0          971.0   \n",
       "\n",
       "   GROUP NAME  \n",
       "0         0.0  \n",
       "1         0.0  \n",
       "2         0.0  \n",
       "3         0.0  \n",
       "4         0.0  "
      ]
     },
     "execution_count": 208,
     "metadata": {},
     "output_type": "execute_result"
    }
   ],
   "source": [
    "#converts to date_time format\n",
    "df['ORDER DATE'] = pd.to_datetime(df['ORDER DATE'], format='%d/%m/%Y')\n",
    "df.head()"
   ]
  },
  {
   "cell_type": "code",
   "execution_count": 209,
   "id": "15423fa8",
   "metadata": {
    "scrolled": true
   },
   "outputs": [],
   "source": [
    "#df.plot.bar(x='ORDER DATE', y='TOTAL CHARGED', rot=90, figsize=(20,10))"
   ]
  },
  {
   "cell_type": "code",
   "execution_count": 210,
   "id": "21c6bd4a",
   "metadata": {},
   "outputs": [
    {
     "data": {
      "image/png": "[encoded data removed]",
      "text/plain": [
       "<Figure size 1000x500 with 1 Axes>"
      ]
     },
     "metadata": {},
     "output_type": "display_data"
    }
   ],
   "source": [
    "#chart shows online spending yearly (2019-2022) total charged vs order date\n",
    "daily_orders = df.groupby(pd.Grouper(key = 'ORDER DATE',freq ='Y'))['TOTAL CHARGED'].sum(numeric_only=True)\n",
    "\n",
    "#adds legend and text size in bar chart, also hex code for bar colors\n",
    "do = daily_orders.plot(kind='bar', figsize=(10,5),color=['#61D199','#FFB347','#C2C2C2','#FF0000'])\n",
    "plt.legend(fontsize=11)\n",
    "plt.xticks(fontsize=11)\n",
    "plt.yticks(fontsize=11)\n",
    "\n",
    "for i in do.containers:\n",
    "    do.bar_label(i)"
   ]
  },
  {
   "cell_type": "code",
   "execution_count": 211,
   "id": "f66cb852",
   "metadata": {},
   "outputs": [
    {
     "data": {
      "image/png": "[encoded data removed]",
      "text/plain": [
       "<Figure size 640x480 with 1 Axes>"
      ]
     },
     "metadata": {},
     "output_type": "display_data"
    }
   ],
   "source": [
    "year = 2020\n",
    "orders_2022 = df[df['ORDER DATE'].dt.year == year].groupby(df['ORDER DATE'].dt.month_name())['TOTAL CHARGED'].sum()\n",
    "\n",
    "labels = orders_2022.index\n",
    "sizes = orders_2022.values\n",
    "\n",
    "fig1, ax1 = plt.subplots()\n",
    "ax1.pie(sizes, labels=labels, autopct='%1.1f%%', startangle=90)\n",
    "ax1.axis('equal')\n",
    "\n",
    "plt.show()\n"
   ]
  },
  {
   "cell_type": "code",
   "execution_count": 212,
   "id": "7da106ee",
   "metadata": {
    "scrolled": true
   },
   "outputs": [
    {
     "data": {
      "image/png": "[encoded data removed]",
      "text/plain": [
       "<Figure size 600x300 with 1 Axes>"
      ]
     },
     "metadata": {},
     "output_type": "display_data"
    }
   ],
   "source": [
    "# Convert Order Date column to datetime format\n",
    "df['ORDER DATE'] = pd.to_datetime(df['ORDER DATE'])\n",
    "\n",
    "# Extract year from Order Date column\n",
    "df['Year'] = df['ORDER DATE'].dt.year\n",
    "\n",
    "# Group the data by year and sum the Total Charged column\n",
    "yearly_data = df.groupby('Year')['TOTAL CHARGED'].sum()\n",
    "\n",
    "# Plot the graph\n",
    "plt.figure(figsize=(6,3))\n",
    "plt.plot(yearly_data.index.astype(str), yearly_data.values)\n",
    "\n",
    "# Set the title and labels for the graph\n",
    "plt.title('Total Charged by Year')\n",
    "plt.xlabel('Year')\n",
    "plt.ylabel('Total Charged')\n",
    "\n",
    "# Show the graph\n",
    "plt.show()"
   ]
  },
  {
   "cell_type": "code",
   "execution_count": 213,
   "id": "c6b17986",
   "metadata": {},
   "outputs": [
    {
     "data": {
      "image/png": "[encoded data removed]",
      "text/plain": [
       "<Figure size 800x400 with 1 Axes>"
      ]
     },
     "metadata": {},
     "output_type": "display_data"
    }
   ],
   "source": [
    "total_shopping = df.groupby('WEBSITE')['TOTAL CHARGED'].sum(numeric_only=True)\n",
    "ts = total_shopping.plot(kind='bar', figsize=(8,4),color=['#61D199','#FFB347','#C2C2C2','#FF0000'])\n",
    "plt.legend(fontsize=12)\n",
    "plt.xticks(fontsize=12)\n",
    "plt.yticks(fontsize=12)\n",
    "for i in ts.containers:\n",
    "    ts.bar_label(i)"
   ]
  },
  {
   "cell_type": "code",
   "execution_count": 214,
   "id": "c2f4bb9a",
   "metadata": {},
   "outputs": [
    {
     "data": {
      "image/png": "[encoded data removed]",
      "text/plain": [
       "<Figure size 800x400 with 1 Axes>"
      ]
     },
     "metadata": {},
     "output_type": "display_data"
    }
   ],
   "source": [
    "total_expenditure = df.groupby('CATEGORY')['TOTAL CHARGED'].sum(numeric_only=True)\n",
    "ts = total_expenditure.plot(kind='bar', figsize=(8,4),color=['#61D199','#FFB347','#C2C2C2','#FF0000'])\n",
    "plt.legend(fontsize=12)\n",
    "plt.xticks(fontsize=12)\n",
    "plt.yticks(fontsize=12)\n",
    "for i in ts.containers:\n",
    "    ts.bar_label(i)"
   ]
  },
  {
   "cell_type": "code",
   "execution_count": 222,
   "id": "0ce6e155",
   "metadata": {},
   "outputs": [
    {
     "name": "stdout",
     "output_type": "stream",
     "text": [
      "Food           25\n",
      "Electronics    15\n",
      "Furniture      13\n",
      "HealthCare     13\n",
      "Beauty         13\n",
      "Household      12\n",
      "Fashion         9\n",
      "Name: CATEGORY, dtype: int64\n"
     ]
    },
    {
     "data": {
      "text/plain": [
       "<Axes: xlabel='CATEGORY'>"
      ]
     },
     "execution_count": 222,
     "metadata": {},
     "output_type": "execute_result"
    },
    {
     "data": {
      "image/png": "[encoded data removed]",
      "text/plain": [
       "<Figure size 1500x800 with 1 Axes>"
      ]
     },
     "metadata": {},
     "output_type": "display_data"
    }
   ],
   "source": [
    "#alternate representation of above graph- it shows the count the category has been ordered by the individual\n",
    "category_type = df['CATEGORY'].value_counts()\n",
    "print (category_type)\n",
    "plt.figure(figsize=(15,8))\n",
    "sns.barplot(x=category_type, y=category_type.index)"
   ]
  },
  {
   "cell_type": "code",
   "execution_count": null,
   "id": "4a67e122",
   "metadata": {},
   "outputs": [],
   "source": []
  }
 ],
 "metadata": {
  "kernelspec": {
   "display_name": "Python 3 (ipykernel)",
   "language": "python",
   "name": "python3"
  },
  "language_info": {
   "codemirror_mode": {
    "name": "ipython",
    "version": 3
   },
   "file_extension": ".py",
   "mimetype": "text/x-python",
   "name": "python",
   "nbconvert_exporter": "python",
   "pygments_lexer": "ipython3",
   "version": "3.10.9"
  }
 },
 "nbformat": 4,
 "nbformat_minor": 5
}
